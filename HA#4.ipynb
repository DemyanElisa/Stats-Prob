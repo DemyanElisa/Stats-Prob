{
 "cells": [
  {
   "cell_type": "code",
   "execution_count": 28,
   "metadata": {},
   "outputs": [],
   "source": [
    "import numpy as np\n",
    "import statsmodels.api as sm\n",
    "import pandas as pd\n",
    "from sklearn.metrics import accuracy_score"
   ]
  },
  {
   "cell_type": "markdown",
   "metadata": {},
   "source": [
    "### Linear regression "
   ]
  },
  {
   "cell_type": "code",
   "execution_count": 29,
   "metadata": {},
   "outputs": [
    {
     "data": {
      "text/plain": [
       "Index(['Alcohol', 'Malic_Acid', 'Ash', 'Ash_Alcanity', 'Magnesium',\n",
       "       'Total_Phenols', 'Flavanoids', 'Nonflavanoid_Phenols',\n",
       "       'Proanthocyanins', 'Color_Intensity', 'Hue', 'OD280', 'Proline',\n",
       "       'Customer_Segment'],\n",
       "      dtype='object')"
      ]
     },
     "execution_count": 29,
     "metadata": {},
     "output_type": "execute_result"
    }
   ],
   "source": [
    "wines = pd.read_csv('wines_properties.csv')\n",
    "wines.columns"
   ]
  },
  {
   "cell_type": "code",
   "execution_count": 30,
   "metadata": {},
   "outputs": [
    {
     "data": {
      "text/html": [
       "<div>\n",
       "<style scoped>\n",
       "    .dataframe tbody tr th:only-of-type {\n",
       "        vertical-align: middle;\n",
       "    }\n",
       "\n",
       "    .dataframe tbody tr th {\n",
       "        vertical-align: top;\n",
       "    }\n",
       "\n",
       "    .dataframe thead th {\n",
       "        text-align: right;\n",
       "    }\n",
       "</style>\n",
       "<table border=\"1\" class=\"dataframe\">\n",
       "  <thead>\n",
       "    <tr style=\"text-align: right;\">\n",
       "      <th></th>\n",
       "      <th>Alcohol</th>\n",
       "      <th>Malic_Acid</th>\n",
       "      <th>Ash</th>\n",
       "      <th>Ash_Alcanity</th>\n",
       "      <th>Magnesium</th>\n",
       "      <th>Total_Phenols</th>\n",
       "      <th>Flavanoids</th>\n",
       "      <th>Nonflavanoid_Phenols</th>\n",
       "      <th>Proanthocyanins</th>\n",
       "      <th>Color_Intensity</th>\n",
       "      <th>Hue</th>\n",
       "      <th>OD280</th>\n",
       "      <th>Proline</th>\n",
       "      <th>Customer_Segment</th>\n",
       "    </tr>\n",
       "  </thead>\n",
       "  <tbody>\n",
       "    <tr>\n",
       "      <th>0</th>\n",
       "      <td>14.23</td>\n",
       "      <td>1.71</td>\n",
       "      <td>2.43</td>\n",
       "      <td>15.6</td>\n",
       "      <td>127</td>\n",
       "      <td>2.80</td>\n",
       "      <td>3.06</td>\n",
       "      <td>0.28</td>\n",
       "      <td>2.29</td>\n",
       "      <td>5.64</td>\n",
       "      <td>1.04</td>\n",
       "      <td>3.92</td>\n",
       "      <td>1065</td>\n",
       "      <td>1</td>\n",
       "    </tr>\n",
       "    <tr>\n",
       "      <th>1</th>\n",
       "      <td>13.20</td>\n",
       "      <td>1.78</td>\n",
       "      <td>2.14</td>\n",
       "      <td>11.2</td>\n",
       "      <td>100</td>\n",
       "      <td>2.65</td>\n",
       "      <td>2.76</td>\n",
       "      <td>0.26</td>\n",
       "      <td>1.28</td>\n",
       "      <td>4.38</td>\n",
       "      <td>1.05</td>\n",
       "      <td>3.40</td>\n",
       "      <td>1050</td>\n",
       "      <td>1</td>\n",
       "    </tr>\n",
       "    <tr>\n",
       "      <th>2</th>\n",
       "      <td>13.16</td>\n",
       "      <td>2.36</td>\n",
       "      <td>2.67</td>\n",
       "      <td>18.6</td>\n",
       "      <td>101</td>\n",
       "      <td>2.80</td>\n",
       "      <td>3.24</td>\n",
       "      <td>0.30</td>\n",
       "      <td>2.81</td>\n",
       "      <td>5.68</td>\n",
       "      <td>1.03</td>\n",
       "      <td>3.17</td>\n",
       "      <td>1185</td>\n",
       "      <td>1</td>\n",
       "    </tr>\n",
       "    <tr>\n",
       "      <th>3</th>\n",
       "      <td>14.37</td>\n",
       "      <td>1.95</td>\n",
       "      <td>2.50</td>\n",
       "      <td>16.8</td>\n",
       "      <td>113</td>\n",
       "      <td>3.85</td>\n",
       "      <td>3.49</td>\n",
       "      <td>0.24</td>\n",
       "      <td>2.18</td>\n",
       "      <td>7.80</td>\n",
       "      <td>0.86</td>\n",
       "      <td>3.45</td>\n",
       "      <td>1480</td>\n",
       "      <td>1</td>\n",
       "    </tr>\n",
       "    <tr>\n",
       "      <th>4</th>\n",
       "      <td>13.24</td>\n",
       "      <td>2.59</td>\n",
       "      <td>2.87</td>\n",
       "      <td>21.0</td>\n",
       "      <td>118</td>\n",
       "      <td>2.80</td>\n",
       "      <td>2.69</td>\n",
       "      <td>0.39</td>\n",
       "      <td>1.82</td>\n",
       "      <td>4.32</td>\n",
       "      <td>1.04</td>\n",
       "      <td>2.93</td>\n",
       "      <td>735</td>\n",
       "      <td>1</td>\n",
       "    </tr>\n",
       "  </tbody>\n",
       "</table>\n",
       "</div>"
      ],
      "text/plain": [
       "   Alcohol  Malic_Acid   Ash  Ash_Alcanity  Magnesium  Total_Phenols  \\\n",
       "0    14.23        1.71  2.43          15.6        127           2.80   \n",
       "1    13.20        1.78  2.14          11.2        100           2.65   \n",
       "2    13.16        2.36  2.67          18.6        101           2.80   \n",
       "3    14.37        1.95  2.50          16.8        113           3.85   \n",
       "4    13.24        2.59  2.87          21.0        118           2.80   \n",
       "\n",
       "   Flavanoids  Nonflavanoid_Phenols  Proanthocyanins  Color_Intensity   Hue  \\\n",
       "0        3.06                  0.28             2.29             5.64  1.04   \n",
       "1        2.76                  0.26             1.28             4.38  1.05   \n",
       "2        3.24                  0.30             2.81             5.68  1.03   \n",
       "3        3.49                  0.24             2.18             7.80  0.86   \n",
       "4        2.69                  0.39             1.82             4.32  1.04   \n",
       "\n",
       "   OD280  Proline  Customer_Segment  \n",
       "0   3.92     1065                 1  \n",
       "1   3.40     1050                 1  \n",
       "2   3.17     1185                 1  \n",
       "3   3.45     1480                 1  \n",
       "4   2.93      735                 1  "
      ]
     },
     "execution_count": 30,
     "metadata": {},
     "output_type": "execute_result"
    }
   ],
   "source": [
    "wines.head()"
   ]
  },
  {
   "cell_type": "code",
   "execution_count": 31,
   "metadata": {},
   "outputs": [],
   "source": [
    "linreg_y = wines['Alcohol']"
   ]
  },
  {
   "cell_type": "code",
   "execution_count": 32,
   "metadata": {},
   "outputs": [
    {
     "data": {
      "text/html": [
       "<table class=\"simpletable\">\n",
       "<caption>OLS Regression Results</caption>\n",
       "<tr>\n",
       "  <th>Dep. Variable:</th>         <td>Alcohol</td>     <th>  R-squared:         </th> <td>   0.617</td>\n",
       "</tr>\n",
       "<tr>\n",
       "  <th>Model:</th>                   <td>OLS</td>       <th>  Adj. R-squared:    </th> <td>   0.587</td>\n",
       "</tr>\n",
       "<tr>\n",
       "  <th>Method:</th>             <td>Least Squares</td>  <th>  F-statistic:       </th> <td>   20.32</td>\n",
       "</tr>\n",
       "<tr>\n",
       "  <th>Date:</th>             <td>Wed, 12 Dec 2018</td> <th>  Prob (F-statistic):</th> <td>7.07e-28</td>\n",
       "</tr>\n",
       "<tr>\n",
       "  <th>Time:</th>                 <td>18:15:18</td>     <th>  Log-Likelihood:    </th> <td> -129.56</td>\n",
       "</tr>\n",
       "<tr>\n",
       "  <th>No. Observations:</th>      <td>   178</td>      <th>  AIC:               </th> <td>   287.1</td>\n",
       "</tr>\n",
       "<tr>\n",
       "  <th>Df Residuals:</th>          <td>   164</td>      <th>  BIC:               </th> <td>   331.7</td>\n",
       "</tr>\n",
       "<tr>\n",
       "  <th>Df Model:</th>              <td>    13</td>      <th>                     </th>     <td> </td>   \n",
       "</tr>\n",
       "<tr>\n",
       "  <th>Covariance Type:</th>      <td>nonrobust</td>    <th>                     </th>     <td> </td>   \n",
       "</tr>\n",
       "</table>\n",
       "<table class=\"simpletable\">\n",
       "<tr>\n",
       "            <td></td>              <th>coef</th>     <th>std err</th>      <th>t</th>      <th>P>|t|</th>  <th>[0.025</th>    <th>0.975]</th>  \n",
       "</tr>\n",
       "<tr>\n",
       "  <th>const</th>                <td>   12.6359</td> <td>    0.762</td> <td>   16.574</td> <td> 0.000</td> <td>   11.130</td> <td>   14.141</td>\n",
       "</tr>\n",
       "<tr>\n",
       "  <th>Malic_Acid</th>           <td>    0.1389</td> <td>    0.044</td> <td>    3.146</td> <td> 0.002</td> <td>    0.052</td> <td>    0.226</td>\n",
       "</tr>\n",
       "<tr>\n",
       "  <th>Ash</th>                  <td>    0.0568</td> <td>    0.213</td> <td>    0.267</td> <td> 0.790</td> <td>   -0.363</td> <td>    0.477</td>\n",
       "</tr>\n",
       "<tr>\n",
       "  <th>Ash_Alcanity</th>         <td>   -0.0160</td> <td>    0.019</td> <td>   -0.857</td> <td> 0.393</td> <td>   -0.053</td> <td>    0.021</td>\n",
       "</tr>\n",
       "<tr>\n",
       "  <th>Magnesium</th>            <td>   -0.0002</td> <td>    0.003</td> <td>   -0.072</td> <td> 0.942</td> <td>   -0.007</td> <td>    0.006</td>\n",
       "</tr>\n",
       "<tr>\n",
       "  <th>Total_Phenols</th>        <td>    0.1201</td> <td>    0.132</td> <td>    0.908</td> <td> 0.365</td> <td>   -0.141</td> <td>    0.381</td>\n",
       "</tr>\n",
       "<tr>\n",
       "  <th>Flavanoids</th>           <td>   -0.1747</td> <td>    0.119</td> <td>   -1.465</td> <td> 0.145</td> <td>   -0.410</td> <td>    0.061</td>\n",
       "</tr>\n",
       "<tr>\n",
       "  <th>Nonflavanoid_Phenols</th> <td>   -0.3452</td> <td>    0.424</td> <td>   -0.813</td> <td> 0.417</td> <td>   -1.183</td> <td>    0.493</td>\n",
       "</tr>\n",
       "<tr>\n",
       "  <th>Proanthocyanins</th>      <td>   -0.1243</td> <td>    0.096</td> <td>   -1.294</td> <td> 0.197</td> <td>   -0.314</td> <td>    0.065</td>\n",
       "</tr>\n",
       "<tr>\n",
       "  <th>Color_Intensity</th>      <td>    0.1909</td> <td>    0.028</td> <td>    6.785</td> <td> 0.000</td> <td>    0.135</td> <td>    0.246</td>\n",
       "</tr>\n",
       "<tr>\n",
       "  <th>Hue</th>                  <td>    0.1309</td> <td>    0.275</td> <td>    0.476</td> <td> 0.635</td> <td>   -0.412</td> <td>    0.674</td>\n",
       "</tr>\n",
       "<tr>\n",
       "  <th>OD280</th>                <td>    0.0186</td> <td>    0.116</td> <td>    0.161</td> <td> 0.873</td> <td>   -0.210</td> <td>    0.247</td>\n",
       "</tr>\n",
       "<tr>\n",
       "  <th>Proline</th>              <td>    0.0006</td> <td>    0.000</td> <td>    2.631</td> <td> 0.009</td> <td>    0.000</td> <td>    0.001</td>\n",
       "</tr>\n",
       "<tr>\n",
       "  <th>Customer_Segment</th>     <td>   -0.4922</td> <td>    0.155</td> <td>   -3.166</td> <td> 0.002</td> <td>   -0.799</td> <td>   -0.185</td>\n",
       "</tr>\n",
       "</table>\n",
       "<table class=\"simpletable\">\n",
       "<tr>\n",
       "  <th>Omnibus:</th>       <td> 0.948</td> <th>  Durbin-Watson:     </th> <td>   2.058</td>\n",
       "</tr>\n",
       "<tr>\n",
       "  <th>Prob(Omnibus):</th> <td> 0.623</td> <th>  Jarque-Bera (JB):  </th> <td>   0.834</td>\n",
       "</tr>\n",
       "<tr>\n",
       "  <th>Skew:</th>          <td> 0.168</td> <th>  Prob(JB):          </th> <td>   0.659</td>\n",
       "</tr>\n",
       "<tr>\n",
       "  <th>Kurtosis:</th>      <td> 2.997</td> <th>  Cond. No.          </th> <td>1.65e+04</td>\n",
       "</tr>\n",
       "</table><br/><br/>Warnings:<br/>[1] Standard Errors assume that the covariance matrix of the errors is correctly specified.<br/>[2] The condition number is large, 1.65e+04. This might indicate that there are<br/>strong multicollinearity or other numerical problems."
      ],
      "text/plain": [
       "<class 'statsmodels.iolib.summary.Summary'>\n",
       "\"\"\"\n",
       "                            OLS Regression Results                            \n",
       "==============================================================================\n",
       "Dep. Variable:                Alcohol   R-squared:                       0.617\n",
       "Model:                            OLS   Adj. R-squared:                  0.587\n",
       "Method:                 Least Squares   F-statistic:                     20.32\n",
       "Date:                Wed, 12 Dec 2018   Prob (F-statistic):           7.07e-28\n",
       "Time:                        18:15:18   Log-Likelihood:                -129.56\n",
       "No. Observations:                 178   AIC:                             287.1\n",
       "Df Residuals:                     164   BIC:                             331.7\n",
       "Df Model:                          13                                         \n",
       "Covariance Type:            nonrobust                                         \n",
       "========================================================================================\n",
       "                           coef    std err          t      P>|t|      [0.025      0.975]\n",
       "----------------------------------------------------------------------------------------\n",
       "const                   12.6359      0.762     16.574      0.000      11.130      14.141\n",
       "Malic_Acid               0.1389      0.044      3.146      0.002       0.052       0.226\n",
       "Ash                      0.0568      0.213      0.267      0.790      -0.363       0.477\n",
       "Ash_Alcanity            -0.0160      0.019     -0.857      0.393      -0.053       0.021\n",
       "Magnesium               -0.0002      0.003     -0.072      0.942      -0.007       0.006\n",
       "Total_Phenols            0.1201      0.132      0.908      0.365      -0.141       0.381\n",
       "Flavanoids              -0.1747      0.119     -1.465      0.145      -0.410       0.061\n",
       "Nonflavanoid_Phenols    -0.3452      0.424     -0.813      0.417      -1.183       0.493\n",
       "Proanthocyanins         -0.1243      0.096     -1.294      0.197      -0.314       0.065\n",
       "Color_Intensity          0.1909      0.028      6.785      0.000       0.135       0.246\n",
       "Hue                      0.1309      0.275      0.476      0.635      -0.412       0.674\n",
       "OD280                    0.0186      0.116      0.161      0.873      -0.210       0.247\n",
       "Proline                  0.0006      0.000      2.631      0.009       0.000       0.001\n",
       "Customer_Segment        -0.4922      0.155     -3.166      0.002      -0.799      -0.185\n",
       "==============================================================================\n",
       "Omnibus:                        0.948   Durbin-Watson:                   2.058\n",
       "Prob(Omnibus):                  0.623   Jarque-Bera (JB):                0.834\n",
       "Skew:                           0.168   Prob(JB):                        0.659\n",
       "Kurtosis:                       2.997   Cond. No.                     1.65e+04\n",
       "==============================================================================\n",
       "\n",
       "Warnings:\n",
       "[1] Standard Errors assume that the covariance matrix of the errors is correctly specified.\n",
       "[2] The condition number is large, 1.65e+04. This might indicate that there are\n",
       "strong multicollinearity or other numerical problems.\n",
       "\"\"\""
      ]
     },
     "execution_count": 32,
     "metadata": {},
     "output_type": "execute_result"
    }
   ],
   "source": [
    "model = sm.OLS(linreg_y, sm.add_constant(wines.iloc[:, 1:], prepend = True), hasconst = True)\n",
    "res = model.fit()\n",
    "res.summary()"
   ]
  },
  {
   "cell_type": "code",
   "execution_count": 33,
   "metadata": {},
   "outputs": [],
   "source": [
    "y_linreg_pred = res.predict(sm.add_constant(wines.iloc[:, 1:], prepend = True)) #predictions based on OLS"
   ]
  },
  {
   "cell_type": "markdown",
   "metadata": {},
   "source": [
    "#### Result\n",
    "We obtain R-squared equal to the 0.617, which means that with the use of our model we were able to explain more than 60% of the variation of the alcohol percentage. However, if we wish to compare our model to other models, we should look at the adjusted R-squared that, as expected, is lower, but only by 3% in our case."
   ]
  },
  {
   "cell_type": "markdown",
   "metadata": {},
   "source": [
    "### Logistic regression "
   ]
  },
  {
   "cell_type": "code",
   "execution_count": 34,
   "metadata": {},
   "outputs": [
    {
     "data": {
      "text/html": [
       "<div>\n",
       "<style scoped>\n",
       "    .dataframe tbody tr th:only-of-type {\n",
       "        vertical-align: middle;\n",
       "    }\n",
       "\n",
       "    .dataframe tbody tr th {\n",
       "        vertical-align: top;\n",
       "    }\n",
       "\n",
       "    .dataframe thead th {\n",
       "        text-align: right;\n",
       "    }\n",
       "</style>\n",
       "<table border=\"1\" class=\"dataframe\">\n",
       "  <thead>\n",
       "    <tr style=\"text-align: right;\">\n",
       "      <th></th>\n",
       "      <th>Malic_Acid</th>\n",
       "      <th>Ash</th>\n",
       "      <th>Ash_Alcanity</th>\n",
       "      <th>Magnesium</th>\n",
       "      <th>Total_Phenols</th>\n",
       "      <th>Flavanoids</th>\n",
       "      <th>Nonflavanoid_Phenols</th>\n",
       "      <th>Proanthocyanins</th>\n",
       "      <th>Color_Intensity</th>\n",
       "      <th>Hue</th>\n",
       "      <th>OD280</th>\n",
       "      <th>Proline</th>\n",
       "      <th>Customer_Segment</th>\n",
       "      <th>Strong</th>\n",
       "    </tr>\n",
       "  </thead>\n",
       "  <tbody>\n",
       "    <tr>\n",
       "      <th>0</th>\n",
       "      <td>1.71</td>\n",
       "      <td>2.43</td>\n",
       "      <td>15.6</td>\n",
       "      <td>127</td>\n",
       "      <td>2.80</td>\n",
       "      <td>3.06</td>\n",
       "      <td>0.28</td>\n",
       "      <td>2.29</td>\n",
       "      <td>5.64</td>\n",
       "      <td>1.04</td>\n",
       "      <td>3.92</td>\n",
       "      <td>1065</td>\n",
       "      <td>1</td>\n",
       "      <td>1</td>\n",
       "    </tr>\n",
       "    <tr>\n",
       "      <th>1</th>\n",
       "      <td>1.78</td>\n",
       "      <td>2.14</td>\n",
       "      <td>11.2</td>\n",
       "      <td>100</td>\n",
       "      <td>2.65</td>\n",
       "      <td>2.76</td>\n",
       "      <td>0.26</td>\n",
       "      <td>1.28</td>\n",
       "      <td>4.38</td>\n",
       "      <td>1.05</td>\n",
       "      <td>3.40</td>\n",
       "      <td>1050</td>\n",
       "      <td>1</td>\n",
       "      <td>0</td>\n",
       "    </tr>\n",
       "    <tr>\n",
       "      <th>2</th>\n",
       "      <td>2.36</td>\n",
       "      <td>2.67</td>\n",
       "      <td>18.6</td>\n",
       "      <td>101</td>\n",
       "      <td>2.80</td>\n",
       "      <td>3.24</td>\n",
       "      <td>0.30</td>\n",
       "      <td>2.81</td>\n",
       "      <td>5.68</td>\n",
       "      <td>1.03</td>\n",
       "      <td>3.17</td>\n",
       "      <td>1185</td>\n",
       "      <td>1</td>\n",
       "      <td>0</td>\n",
       "    </tr>\n",
       "    <tr>\n",
       "      <th>3</th>\n",
       "      <td>1.95</td>\n",
       "      <td>2.50</td>\n",
       "      <td>16.8</td>\n",
       "      <td>113</td>\n",
       "      <td>3.85</td>\n",
       "      <td>3.49</td>\n",
       "      <td>0.24</td>\n",
       "      <td>2.18</td>\n",
       "      <td>7.80</td>\n",
       "      <td>0.86</td>\n",
       "      <td>3.45</td>\n",
       "      <td>1480</td>\n",
       "      <td>1</td>\n",
       "      <td>1</td>\n",
       "    </tr>\n",
       "    <tr>\n",
       "      <th>4</th>\n",
       "      <td>2.59</td>\n",
       "      <td>2.87</td>\n",
       "      <td>21.0</td>\n",
       "      <td>118</td>\n",
       "      <td>2.80</td>\n",
       "      <td>2.69</td>\n",
       "      <td>0.39</td>\n",
       "      <td>1.82</td>\n",
       "      <td>4.32</td>\n",
       "      <td>1.04</td>\n",
       "      <td>2.93</td>\n",
       "      <td>735</td>\n",
       "      <td>1</td>\n",
       "      <td>0</td>\n",
       "    </tr>\n",
       "  </tbody>\n",
       "</table>\n",
       "</div>"
      ],
      "text/plain": [
       "   Malic_Acid   Ash  Ash_Alcanity  Magnesium  Total_Phenols  Flavanoids  \\\n",
       "0        1.71  2.43          15.6        127           2.80        3.06   \n",
       "1        1.78  2.14          11.2        100           2.65        2.76   \n",
       "2        2.36  2.67          18.6        101           2.80        3.24   \n",
       "3        1.95  2.50          16.8        113           3.85        3.49   \n",
       "4        2.59  2.87          21.0        118           2.80        2.69   \n",
       "\n",
       "   Nonflavanoid_Phenols  Proanthocyanins  Color_Intensity   Hue  OD280  \\\n",
       "0                  0.28             2.29             5.64  1.04   3.92   \n",
       "1                  0.26             1.28             4.38  1.05   3.40   \n",
       "2                  0.30             2.81             5.68  1.03   3.17   \n",
       "3                  0.24             2.18             7.80  0.86   3.45   \n",
       "4                  0.39             1.82             4.32  1.04   2.93   \n",
       "\n",
       "   Proline  Customer_Segment  Strong  \n",
       "0     1065                 1       1  \n",
       "1     1050                 1       0  \n",
       "2     1185                 1       0  \n",
       "3     1480                 1       1  \n",
       "4      735                 1       0  "
      ]
     },
     "execution_count": 34,
     "metadata": {},
     "output_type": "execute_result"
    }
   ],
   "source": [
    "alcohol_threshold = np.percentile(wines.Alcohol, 75) #choose 75% percentile as a threshold\n",
    "alcohol_bool = list(map(int, linreg_y > alcohol_threshold))\n",
    "wines['Strong'] = alcohol_bool\n",
    "wines = wines.drop(labels = ['Alcohol'], axis = 1)\n",
    "wines.head()"
   ]
  },
  {
   "cell_type": "code",
   "execution_count": 48,
   "metadata": {},
   "outputs": [
    {
     "name": "stdout",
     "output_type": "stream",
     "text": [
      "Optimization terminated successfully.\n",
      "         Current function value: 0.332412\n",
      "         Iterations 8\n"
     ]
    },
    {
     "data": {
      "text/html": [
       "<table class=\"simpletable\">\n",
       "<caption>Logit Regression Results</caption>\n",
       "<tr>\n",
       "  <th>Dep. Variable:</th>      <td>Strong</td>      <th>  No. Observations:  </th>  <td>   178</td>  \n",
       "</tr>\n",
       "<tr>\n",
       "  <th>Model:</th>               <td>Logit</td>      <th>  Df Residuals:      </th>  <td>   164</td>  \n",
       "</tr>\n",
       "<tr>\n",
       "  <th>Method:</th>               <td>MLE</td>       <th>  Df Model:          </th>  <td>    13</td>  \n",
       "</tr>\n",
       "<tr>\n",
       "  <th>Date:</th>          <td>Wed, 12 Dec 2018</td> <th>  Pseudo R-squ.:     </th>  <td>0.4121</td>  \n",
       "</tr>\n",
       "<tr>\n",
       "  <th>Time:</th>              <td>18:22:08</td>     <th>  Log-Likelihood:    </th> <td> -59.169</td> \n",
       "</tr>\n",
       "<tr>\n",
       "  <th>converged:</th>           <td>True</td>       <th>  LL-Null:           </th> <td> -100.64</td> \n",
       "</tr>\n",
       "<tr>\n",
       "  <th> </th>                      <td> </td>        <th>  LLR p-value:       </th> <td>3.072e-12</td>\n",
       "</tr>\n",
       "</table>\n",
       "<table class=\"simpletable\">\n",
       "<tr>\n",
       "            <td></td>              <th>coef</th>     <th>std err</th>      <th>z</th>      <th>P>|z|</th>  <th>[0.025</th>    <th>0.975]</th>  \n",
       "</tr>\n",
       "<tr>\n",
       "  <th>const</th>                <td>  -14.1909</td> <td>    5.671</td> <td>   -2.503</td> <td> 0.012</td> <td>  -25.305</td> <td>   -3.077</td>\n",
       "</tr>\n",
       "<tr>\n",
       "  <th>Malic_Acid</th>           <td>    0.6919</td> <td>    0.305</td> <td>    2.270</td> <td> 0.023</td> <td>    0.094</td> <td>    1.289</td>\n",
       "</tr>\n",
       "<tr>\n",
       "  <th>Ash</th>                  <td>    0.4460</td> <td>    1.352</td> <td>    0.330</td> <td> 0.741</td> <td>   -2.203</td> <td>    3.095</td>\n",
       "</tr>\n",
       "<tr>\n",
       "  <th>Ash_Alcanity</th>         <td>   -0.1208</td> <td>    0.115</td> <td>   -1.052</td> <td> 0.293</td> <td>   -0.346</td> <td>    0.104</td>\n",
       "</tr>\n",
       "<tr>\n",
       "  <th>Magnesium</th>            <td>   -0.0163</td> <td>    0.023</td> <td>   -0.719</td> <td> 0.472</td> <td>   -0.061</td> <td>    0.028</td>\n",
       "</tr>\n",
       "<tr>\n",
       "  <th>Total_Phenols</th>        <td>    1.1710</td> <td>    1.008</td> <td>    1.162</td> <td> 0.245</td> <td>   -0.804</td> <td>    3.146</td>\n",
       "</tr>\n",
       "<tr>\n",
       "  <th>Flavanoids</th>           <td>   -0.5495</td> <td>    0.838</td> <td>   -0.656</td> <td> 0.512</td> <td>   -2.191</td> <td>    1.092</td>\n",
       "</tr>\n",
       "<tr>\n",
       "  <th>Nonflavanoid_Phenols</th> <td>    2.6239</td> <td>    3.163</td> <td>    0.830</td> <td> 0.407</td> <td>   -3.576</td> <td>    8.823</td>\n",
       "</tr>\n",
       "<tr>\n",
       "  <th>Proanthocyanins</th>      <td>   -0.3442</td> <td>    0.703</td> <td>   -0.489</td> <td> 0.625</td> <td>   -1.723</td> <td>    1.034</td>\n",
       "</tr>\n",
       "<tr>\n",
       "  <th>Color_Intensity</th>      <td>    0.7456</td> <td>    0.231</td> <td>    3.228</td> <td> 0.001</td> <td>    0.293</td> <td>    1.198</td>\n",
       "</tr>\n",
       "<tr>\n",
       "  <th>Hue</th>                  <td>    3.8818</td> <td>    2.154</td> <td>    1.802</td> <td> 0.072</td> <td>   -0.341</td> <td>    8.104</td>\n",
       "</tr>\n",
       "<tr>\n",
       "  <th>OD280</th>                <td>    1.2646</td> <td>    0.788</td> <td>    1.606</td> <td> 0.108</td> <td>   -0.279</td> <td>    2.808</td>\n",
       "</tr>\n",
       "<tr>\n",
       "  <th>Proline</th>              <td>    0.0022</td> <td>    0.001</td> <td>    1.489</td> <td> 0.137</td> <td>   -0.001</td> <td>    0.005</td>\n",
       "</tr>\n",
       "<tr>\n",
       "  <th>Customer_Segment</th>     <td>   -0.4634</td> <td>    1.014</td> <td>   -0.457</td> <td> 0.648</td> <td>   -2.450</td> <td>    1.523</td>\n",
       "</tr>\n",
       "</table>"
      ],
      "text/plain": [
       "<class 'statsmodels.iolib.summary.Summary'>\n",
       "\"\"\"\n",
       "                           Logit Regression Results                           \n",
       "==============================================================================\n",
       "Dep. Variable:                 Strong   No. Observations:                  178\n",
       "Model:                          Logit   Df Residuals:                      164\n",
       "Method:                           MLE   Df Model:                           13\n",
       "Date:                Wed, 12 Dec 2018   Pseudo R-squ.:                  0.4121\n",
       "Time:                        18:22:08   Log-Likelihood:                -59.169\n",
       "converged:                       True   LL-Null:                       -100.64\n",
       "                                        LLR p-value:                 3.072e-12\n",
       "========================================================================================\n",
       "                           coef    std err          z      P>|z|      [0.025      0.975]\n",
       "----------------------------------------------------------------------------------------\n",
       "const                  -14.1909      5.671     -2.503      0.012     -25.305      -3.077\n",
       "Malic_Acid               0.6919      0.305      2.270      0.023       0.094       1.289\n",
       "Ash                      0.4460      1.352      0.330      0.741      -2.203       3.095\n",
       "Ash_Alcanity            -0.1208      0.115     -1.052      0.293      -0.346       0.104\n",
       "Magnesium               -0.0163      0.023     -0.719      0.472      -0.061       0.028\n",
       "Total_Phenols            1.1710      1.008      1.162      0.245      -0.804       3.146\n",
       "Flavanoids              -0.5495      0.838     -0.656      0.512      -2.191       1.092\n",
       "Nonflavanoid_Phenols     2.6239      3.163      0.830      0.407      -3.576       8.823\n",
       "Proanthocyanins         -0.3442      0.703     -0.489      0.625      -1.723       1.034\n",
       "Color_Intensity          0.7456      0.231      3.228      0.001       0.293       1.198\n",
       "Hue                      3.8818      2.154      1.802      0.072      -0.341       8.104\n",
       "OD280                    1.2646      0.788      1.606      0.108      -0.279       2.808\n",
       "Proline                  0.0022      0.001      1.489      0.137      -0.001       0.005\n",
       "Customer_Segment        -0.4634      1.014     -0.457      0.648      -2.450       1.523\n",
       "========================================================================================\n",
       "\"\"\""
      ]
     },
     "execution_count": 48,
     "metadata": {},
     "output_type": "execute_result"
    }
   ],
   "source": [
    "logit = sm.Logit(wines.iloc[:, -1], sm.add_constant(wines.iloc[:, :-1], prepend = True), hasconst = True)\n",
    "result = logit.fit()\n",
    "result.summary()"
   ]
  },
  {
   "cell_type": "code",
   "execution_count": 49,
   "metadata": {},
   "outputs": [
    {
     "data": {
      "text/plain": [
       "(178, 2)"
      ]
     },
     "execution_count": 49,
     "metadata": {},
     "output_type": "execute_result"
    }
   ],
   "source": [
    "pred = np.array([1-result.predict(), result.predict()])\n",
    "pred.T.shape"
   ]
  },
  {
   "cell_type": "code",
   "execution_count": 50,
   "metadata": {},
   "outputs": [
    {
     "data": {
      "text/plain": [
       "0.8595505617977528"
      ]
     },
     "execution_count": 50,
     "metadata": {},
     "output_type": "execute_result"
    }
   ],
   "source": [
    "accuracy_score(pred[1]>0.5, wines['Strong'])"
   ]
  },
  {
   "cell_type": "markdown",
   "metadata": {},
   "source": [
    "#### Result\n",
    "By setting the classification threshold at the probability of the wine being strong equal to 0.5, we get the accuracy score of 86%. At the first glance, this might seem as a very good result, but we should keep in mind that the ratio of classes is 3:1, and, thus, just by assigning all observations to the 0 class we would get the accuracy of 75%. Hence, we should pay attention only to the increase of accuracy beyond that value."
   ]
  },
  {
   "cell_type": "markdown",
   "metadata": {},
   "source": [
    "We can also try to plot lift curve and cumulative gains for this model to check whether it is good or bad in general. As we see\n",
    "fitted model's quality is quite high"
   ]
  },
  {
   "cell_type": "code",
   "execution_count": 38,
   "metadata": {},
   "outputs": [
    {
     "name": "stderr",
     "output_type": "stream",
     "text": [
      "C:\\Users\\knyag\\Anaconda3\\lib\\site-packages\\matplotlib\\cbook\\__init__.py:424: MatplotlibDeprecationWarning: \n",
      "Passing one of 'on', 'true', 'off', 'false' as a boolean is deprecated; use an actual boolean (True/False) instead.\n",
      "  warn_deprecated(\"2.2\", \"Passing one of 'on', 'true', 'off', 'false' as a \"\n",
      "C:\\Users\\knyag\\Anaconda3\\lib\\site-packages\\matplotlib\\cbook\\__init__.py:424: MatplotlibDeprecationWarning: \n",
      "Passing one of 'on', 'true', 'off', 'false' as a boolean is deprecated; use an actual boolean (True/False) instead.\n",
      "  warn_deprecated(\"2.2\", \"Passing one of 'on', 'true', 'off', 'false' as a \"\n",
      "C:\\Users\\knyag\\Anaconda3\\lib\\site-packages\\sklearn\\utils\\deprecation.py:77: DeprecationWarning: Function plot_roc_curve is deprecated; This will be removed in v0.5.0. Please use scikitplot.metrics.plot_roc instead.\n",
      "  warnings.warn(msg, category=DeprecationWarning)\n"
     ]
    },
    {
     "data": {
      "text/plain": [
       "<matplotlib.axes._subplots.AxesSubplot at 0x162e07f2898>"
      ]
     },
     "execution_count": 38,
     "metadata": {},
     "output_type": "execute_result"
    },
    {
     "data": {
      "image/png": "[encoded data removed]",
      "text/plain": [
       "<Figure size 432x288 with 1 Axes>"
      ]
     },
     "metadata": {
      "needs_background": "light"
     },
     "output_type": "display_data"
    },
    {
     "data": {
      "image/png": "[encoded data removed]",
      "text/plain": [
       "<Figure size 432x288 with 1 Axes>"
      ]
     },
     "metadata": {
      "needs_background": "light"
     },
     "output_type": "display_data"
    },
    {
     "data": {
      "image/png": "[encoded data removed]",
      "text/plain": [
       "<Figure size 432x288 with 1 Axes>"
      ]
     },
     "metadata": {
      "needs_background": "light"
     },
     "output_type": "display_data"
    },
    {
     "data": {
      "image/png": "[encoded data removed]",
      "text/plain": [
       "<Figure size 432x288 with 1 Axes>"
      ]
     },
     "metadata": {
      "needs_background": "light"
     },
     "output_type": "display_data"
    }
   ],
   "source": [
    "import scikitplot as skplt\n",
    "skplt.metrics.plot_lift_curve(wines['Strong'], pred.T)\n",
    "skplt.metrics.plot_cumulative_gain(wines['Strong'], pred.T)\n",
    "skplt.metrics.plot_ks_statistic(wines['Strong'], pred.T)\n",
    "skplt.metrics.plot_roc_curve(wines['Strong'], pred.T)"
   ]
  },
  {
   "cell_type": "markdown",
   "metadata": {},
   "source": [
    "### PCA "
   ]
  },
  {
   "cell_type": "code",
   "execution_count": 39,
   "metadata": {},
   "outputs": [],
   "source": [
    "from sklearn.decomposition import PCA\n",
    "from sklearn.preprocessing import StandardScaler"
   ]
  },
  {
   "cell_type": "code",
   "execution_count": 40,
   "metadata": {},
   "outputs": [
    {
     "name": "stderr",
     "output_type": "stream",
     "text": [
      "C:\\Users\\knyag\\Anaconda3\\lib\\site-packages\\sklearn\\preprocessing\\data.py:625: DataConversionWarning: Data with input dtype int64, float64 were all converted to float64 by StandardScaler.\n",
      "  return self.partial_fit(X, y)\n",
      "C:\\Users\\knyag\\Anaconda3\\lib\\site-packages\\sklearn\\base.py:462: DataConversionWarning: Data with input dtype int64, float64 were all converted to float64 by StandardScaler.\n",
      "  return self.fit(X, **fit_params).transform(X)\n"
     ]
    },
    {
     "data": {
      "text/plain": [
       "0.7452677437742072"
      ]
     },
     "execution_count": 40,
     "metadata": {},
     "output_type": "execute_result"
    }
   ],
   "source": [
    "X_s = StandardScaler().fit_transform(wines.iloc[:,:-2])\n",
    "pca = PCA(n_components = 4).fit(X_s)\n",
    "sum(pca.explained_variance_ratio_)#we see that 4 components are enough to explain ~75% of variance of the features"
   ]
  },
  {
   "cell_type": "code",
   "execution_count": 41,
   "metadata": {},
   "outputs": [
    {
     "data": {
      "text/html": [
       "<div>\n",
       "<style scoped>\n",
       "    .dataframe tbody tr th:only-of-type {\n",
       "        vertical-align: middle;\n",
       "    }\n",
       "\n",
       "    .dataframe tbody tr th {\n",
       "        vertical-align: top;\n",
       "    }\n",
       "\n",
       "    .dataframe thead th {\n",
       "        text-align: right;\n",
       "    }\n",
       "</style>\n",
       "<table border=\"1\" class=\"dataframe\">\n",
       "  <thead>\n",
       "    <tr style=\"text-align: right;\">\n",
       "      <th></th>\n",
       "      <th>PC1</th>\n",
       "      <th>PC2</th>\n",
       "      <th>PC3</th>\n",
       "      <th>PC4</th>\n",
       "    </tr>\n",
       "  </thead>\n",
       "  <tbody>\n",
       "    <tr>\n",
       "      <th>0</th>\n",
       "      <td>-3.078573</td>\n",
       "      <td>-1.219262</td>\n",
       "      <td>-0.388070</td>\n",
       "      <td>-0.239523</td>\n",
       "    </tr>\n",
       "    <tr>\n",
       "      <th>1</th>\n",
       "      <td>-2.190796</td>\n",
       "      <td>0.664568</td>\n",
       "      <td>-1.922109</td>\n",
       "      <td>-0.291411</td>\n",
       "    </tr>\n",
       "    <tr>\n",
       "      <th>2</th>\n",
       "      <td>-2.456441</td>\n",
       "      <td>-1.505811</td>\n",
       "      <td>0.556489</td>\n",
       "      <td>0.723596</td>\n",
       "    </tr>\n",
       "    <tr>\n",
       "      <th>3</th>\n",
       "      <td>-3.422750</td>\n",
       "      <td>-2.556058</td>\n",
       "      <td>-0.703346</td>\n",
       "      <td>0.564575</td>\n",
       "    </tr>\n",
       "    <tr>\n",
       "      <th>4</th>\n",
       "      <td>-0.948976</td>\n",
       "      <td>-1.329735</td>\n",
       "      <td>1.760632</td>\n",
       "      <td>-0.411977</td>\n",
       "    </tr>\n",
       "  </tbody>\n",
       "</table>\n",
       "</div>"
      ],
      "text/plain": [
       "        PC1       PC2       PC3       PC4\n",
       "0 -3.078573 -1.219262 -0.388070 -0.239523\n",
       "1 -2.190796  0.664568 -1.922109 -0.291411\n",
       "2 -2.456441 -1.505811  0.556489  0.723596\n",
       "3 -3.422750 -2.556058 -0.703346  0.564575\n",
       "4 -0.948976 -1.329735  1.760632 -0.411977"
      ]
     },
     "execution_count": 41,
     "metadata": {},
     "output_type": "execute_result"
    }
   ],
   "source": [
    "wines_pca = pd.DataFrame(PCA(n_components = 4).fit_transform(X_s), columns = ['PC1', 'PC2', 'PC3', 'PC4'])\n",
    "wines_pca.head()"
   ]
  },
  {
   "cell_type": "code",
   "execution_count": 51,
   "metadata": {},
   "outputs": [
    {
     "data": {
      "text/html": [
       "<table class=\"simpletable\">\n",
       "<caption>OLS Regression Results</caption>\n",
       "<tr>\n",
       "  <th>Dep. Variable:</th>         <td>Alcohol</td>     <th>  R-squared:         </th> <td>   0.689</td>\n",
       "</tr>\n",
       "<tr>\n",
       "  <th>Model:</th>                   <td>OLS</td>       <th>  Adj. R-squared:    </th> <td>   0.680</td>\n",
       "</tr>\n",
       "<tr>\n",
       "  <th>Method:</th>             <td>Least Squares</td>  <th>  F-statistic:       </th> <td>   76.22</td>\n",
       "</tr>\n",
       "<tr>\n",
       "  <th>Date:</th>             <td>Wed, 12 Dec 2018</td> <th>  Prob (F-statistic):</th> <td>8.38e-42</td>\n",
       "</tr>\n",
       "<tr>\n",
       "  <th>Time:</th>                 <td>18:22:31</td>     <th>  Log-Likelihood:    </th> <td> -111.01</td>\n",
       "</tr>\n",
       "<tr>\n",
       "  <th>No. Observations:</th>      <td>   178</td>      <th>  AIC:               </th> <td>   234.0</td>\n",
       "</tr>\n",
       "<tr>\n",
       "  <th>Df Residuals:</th>          <td>   172</td>      <th>  BIC:               </th> <td>   253.1</td>\n",
       "</tr>\n",
       "<tr>\n",
       "  <th>Df Model:</th>              <td>     5</td>      <th>                     </th>     <td> </td>   \n",
       "</tr>\n",
       "<tr>\n",
       "  <th>Covariance Type:</th>      <td>nonrobust</td>    <th>                     </th>     <td> </td>   \n",
       "</tr>\n",
       "</table>\n",
       "<table class=\"simpletable\">\n",
       "<tr>\n",
       "     <td></td>       <th>coef</th>     <th>std err</th>      <th>t</th>      <th>P>|t|</th>  <th>[0.025</th>    <th>0.975]</th>  \n",
       "</tr>\n",
       "<tr>\n",
       "  <th>const</th>  <td>   12.7479</td> <td>    0.042</td> <td>  303.688</td> <td> 0.000</td> <td>   12.665</td> <td>   12.831</td>\n",
       "</tr>\n",
       "<tr>\n",
       "  <th>PC1</th>    <td>   -0.0161</td> <td>    0.017</td> <td>   -0.926</td> <td> 0.356</td> <td>   -0.050</td> <td>    0.018</td>\n",
       "</tr>\n",
       "<tr>\n",
       "  <th>PC2</th>    <td>   -0.2111</td> <td>    0.027</td> <td>   -7.888</td> <td> 0.000</td> <td>   -0.264</td> <td>   -0.158</td>\n",
       "</tr>\n",
       "<tr>\n",
       "  <th>PC3</th>    <td>   -0.1530</td> <td>    0.030</td> <td>   -5.093</td> <td> 0.000</td> <td>   -0.212</td> <td>   -0.094</td>\n",
       "</tr>\n",
       "<tr>\n",
       "  <th>PC4</th>    <td>   -0.0105</td> <td>    0.036</td> <td>   -0.293</td> <td> 0.770</td> <td>   -0.081</td> <td>    0.060</td>\n",
       "</tr>\n",
       "<tr>\n",
       "  <th>Strong</th> <td>    0.9998</td> <td>    0.095</td> <td>   10.521</td> <td> 0.000</td> <td>    0.812</td> <td>    1.187</td>\n",
       "</tr>\n",
       "</table>\n",
       "<table class=\"simpletable\">\n",
       "<tr>\n",
       "  <th>Omnibus:</th>       <td> 1.290</td> <th>  Durbin-Watson:     </th> <td>   1.695</td>\n",
       "</tr>\n",
       "<tr>\n",
       "  <th>Prob(Omnibus):</th> <td> 0.525</td> <th>  Jarque-Bera (JB):  </th> <td>   0.914</td>\n",
       "</tr>\n",
       "<tr>\n",
       "  <th>Skew:</th>          <td>-0.118</td> <th>  Prob(JB):          </th> <td>   0.633</td>\n",
       "</tr>\n",
       "<tr>\n",
       "  <th>Kurtosis:</th>      <td> 3.260</td> <th>  Cond. No.          </th> <td>    6.24</td>\n",
       "</tr>\n",
       "</table><br/><br/>Warnings:<br/>[1] Standard Errors assume that the covariance matrix of the errors is correctly specified."
      ],
      "text/plain": [
       "<class 'statsmodels.iolib.summary.Summary'>\n",
       "\"\"\"\n",
       "                            OLS Regression Results                            \n",
       "==============================================================================\n",
       "Dep. Variable:                Alcohol   R-squared:                       0.689\n",
       "Model:                            OLS   Adj. R-squared:                  0.680\n",
       "Method:                 Least Squares   F-statistic:                     76.22\n",
       "Date:                Wed, 12 Dec 2018   Prob (F-statistic):           8.38e-42\n",
       "Time:                        18:22:31   Log-Likelihood:                -111.01\n",
       "No. Observations:                 178   AIC:                             234.0\n",
       "Df Residuals:                     172   BIC:                             253.1\n",
       "Df Model:                           5                                         \n",
       "Covariance Type:            nonrobust                                         \n",
       "==============================================================================\n",
       "                 coef    std err          t      P>|t|      [0.025      0.975]\n",
       "------------------------------------------------------------------------------\n",
       "const         12.7479      0.042    303.688      0.000      12.665      12.831\n",
       "PC1           -0.0161      0.017     -0.926      0.356      -0.050       0.018\n",
       "PC2           -0.2111      0.027     -7.888      0.000      -0.264      -0.158\n",
       "PC3           -0.1530      0.030     -5.093      0.000      -0.212      -0.094\n",
       "PC4           -0.0105      0.036     -0.293      0.770      -0.081       0.060\n",
       "Strong         0.9998      0.095     10.521      0.000       0.812       1.187\n",
       "==============================================================================\n",
       "Omnibus:                        1.290   Durbin-Watson:                   1.695\n",
       "Prob(Omnibus):                  0.525   Jarque-Bera (JB):                0.914\n",
       "Skew:                          -0.118   Prob(JB):                        0.633\n",
       "Kurtosis:                       3.260   Cond. No.                         6.24\n",
       "==============================================================================\n",
       "\n",
       "Warnings:\n",
       "[1] Standard Errors assume that the covariance matrix of the errors is correctly specified.\n",
       "\"\"\""
      ]
     },
     "execution_count": 51,
     "metadata": {},
     "output_type": "execute_result"
    }
   ],
   "source": [
    "model = sm.OLS(linreg_y, sm.add_constant(wines_pca, prepend = True), hasconst = True)\n",
    "res = model.fit()\n",
    "res.summary()"
   ]
  },
  {
   "cell_type": "markdown",
   "metadata": {},
   "source": [
    "#### Result"
   ]
  },
  {
   "cell_type": "markdown",
   "metadata": {},
   "source": [
    "As we see both r2 and adjusted r2 are better in this model than in previous linear regression model,\n",
    "it can be due to most relevant few PCs make less noise and fit y better than all features together."
   ]
  },
  {
   "cell_type": "code",
   "execution_count": 52,
   "metadata": {},
   "outputs": [],
   "source": [
    "y_PCA_pred = res.predict(sm.add_constant(wines_pca, prepend = True)) #predictions based on OLS"
   ]
  },
  {
   "cell_type": "code",
   "execution_count": 53,
   "metadata": {},
   "outputs": [
    {
     "data": {
      "text/html": [
       "<div>\n",
       "<style scoped>\n",
       "    .dataframe tbody tr th:only-of-type {\n",
       "        vertical-align: middle;\n",
       "    }\n",
       "\n",
       "    .dataframe tbody tr th {\n",
       "        vertical-align: top;\n",
       "    }\n",
       "\n",
       "    .dataframe thead th {\n",
       "        text-align: right;\n",
       "    }\n",
       "</style>\n",
       "<table border=\"1\" class=\"dataframe\">\n",
       "  <thead>\n",
       "    <tr style=\"text-align: right;\">\n",
       "      <th></th>\n",
       "      <th>PC1</th>\n",
       "      <th>PC2</th>\n",
       "      <th>PC3</th>\n",
       "      <th>PC4</th>\n",
       "      <th>Strong</th>\n",
       "    </tr>\n",
       "  </thead>\n",
       "  <tbody>\n",
       "    <tr>\n",
       "      <th>0</th>\n",
       "      <td>-3.078573</td>\n",
       "      <td>-1.219262</td>\n",
       "      <td>-0.388070</td>\n",
       "      <td>-0.239523</td>\n",
       "      <td>1</td>\n",
       "    </tr>\n",
       "    <tr>\n",
       "      <th>1</th>\n",
       "      <td>-2.190796</td>\n",
       "      <td>0.664568</td>\n",
       "      <td>-1.922109</td>\n",
       "      <td>-0.291411</td>\n",
       "      <td>0</td>\n",
       "    </tr>\n",
       "    <tr>\n",
       "      <th>2</th>\n",
       "      <td>-2.456441</td>\n",
       "      <td>-1.505811</td>\n",
       "      <td>0.556489</td>\n",
       "      <td>0.723596</td>\n",
       "      <td>0</td>\n",
       "    </tr>\n",
       "    <tr>\n",
       "      <th>3</th>\n",
       "      <td>-3.422750</td>\n",
       "      <td>-2.556058</td>\n",
       "      <td>-0.703346</td>\n",
       "      <td>0.564575</td>\n",
       "      <td>1</td>\n",
       "    </tr>\n",
       "    <tr>\n",
       "      <th>4</th>\n",
       "      <td>-0.948976</td>\n",
       "      <td>-1.329735</td>\n",
       "      <td>1.760632</td>\n",
       "      <td>-0.411977</td>\n",
       "      <td>0</td>\n",
       "    </tr>\n",
       "  </tbody>\n",
       "</table>\n",
       "</div>"
      ],
      "text/plain": [
       "        PC1       PC2       PC3       PC4  Strong\n",
       "0 -3.078573 -1.219262 -0.388070 -0.239523       1\n",
       "1 -2.190796  0.664568 -1.922109 -0.291411       0\n",
       "2 -2.456441 -1.505811  0.556489  0.723596       0\n",
       "3 -3.422750 -2.556058 -0.703346  0.564575       1\n",
       "4 -0.948976 -1.329735  1.760632 -0.411977       0"
      ]
     },
     "execution_count": 53,
     "metadata": {},
     "output_type": "execute_result"
    }
   ],
   "source": [
    "wines_pca['Strong'] = alcohol_bool\n",
    "wines_pca.head()"
   ]
  },
  {
   "cell_type": "code",
   "execution_count": 54,
   "metadata": {},
   "outputs": [
    {
     "name": "stdout",
     "output_type": "stream",
     "text": [
      "Optimization terminated successfully.\n",
      "         Current function value: 0.395535\n",
      "         Iterations 7\n"
     ]
    },
    {
     "data": {
      "text/html": [
       "<table class=\"simpletable\">\n",
       "<caption>Logit Regression Results</caption>\n",
       "<tr>\n",
       "  <th>Dep. Variable:</th>      <td>Strong</td>      <th>  No. Observations:  </th>  <td>   178</td>  \n",
       "</tr>\n",
       "<tr>\n",
       "  <th>Model:</th>               <td>Logit</td>      <th>  Df Residuals:      </th>  <td>   173</td>  \n",
       "</tr>\n",
       "<tr>\n",
       "  <th>Method:</th>               <td>MLE</td>       <th>  Df Model:          </th>  <td>     4</td>  \n",
       "</tr>\n",
       "<tr>\n",
       "  <th>Date:</th>          <td>Wed, 12 Dec 2018</td> <th>  Pseudo R-squ.:     </th>  <td>0.3004</td>  \n",
       "</tr>\n",
       "<tr>\n",
       "  <th>Time:</th>              <td>18:22:45</td>     <th>  Log-Likelihood:    </th> <td> -70.405</td> \n",
       "</tr>\n",
       "<tr>\n",
       "  <th>converged:</th>           <td>True</td>       <th>  LL-Null:           </th> <td> -100.64</td> \n",
       "</tr>\n",
       "<tr>\n",
       "  <th> </th>                      <td> </td>        <th>  LLR p-value:       </th> <td>2.308e-12</td>\n",
       "</tr>\n",
       "</table>\n",
       "<table class=\"simpletable\">\n",
       "<tr>\n",
       "    <td></td>       <th>coef</th>     <th>std err</th>      <th>z</th>      <th>P>|z|</th>  <th>[0.025</th>    <th>0.975]</th>  \n",
       "</tr>\n",
       "<tr>\n",
       "  <th>const</th> <td>   -1.6548</td> <td>    0.268</td> <td>   -6.175</td> <td> 0.000</td> <td>   -2.180</td> <td>   -1.130</td>\n",
       "</tr>\n",
       "<tr>\n",
       "  <th>PC1</th>   <td>   -0.4335</td> <td>    0.099</td> <td>   -4.366</td> <td> 0.000</td> <td>   -0.628</td> <td>   -0.239</td>\n",
       "</tr>\n",
       "<tr>\n",
       "  <th>PC2</th>   <td>   -0.9162</td> <td>    0.193</td> <td>   -4.747</td> <td> 0.000</td> <td>   -1.294</td> <td>   -0.538</td>\n",
       "</tr>\n",
       "<tr>\n",
       "  <th>PC3</th>   <td>   -0.4677</td> <td>    0.197</td> <td>   -2.370</td> <td> 0.018</td> <td>   -0.855</td> <td>   -0.081</td>\n",
       "</tr>\n",
       "<tr>\n",
       "  <th>PC4</th>   <td>    0.0912</td> <td>    0.229</td> <td>    0.399</td> <td> 0.690</td> <td>   -0.357</td> <td>    0.539</td>\n",
       "</tr>\n",
       "</table>"
      ],
      "text/plain": [
       "<class 'statsmodels.iolib.summary.Summary'>\n",
       "\"\"\"\n",
       "                           Logit Regression Results                           \n",
       "==============================================================================\n",
       "Dep. Variable:                 Strong   No. Observations:                  178\n",
       "Model:                          Logit   Df Residuals:                      173\n",
       "Method:                           MLE   Df Model:                            4\n",
       "Date:                Wed, 12 Dec 2018   Pseudo R-squ.:                  0.3004\n",
       "Time:                        18:22:45   Log-Likelihood:                -70.405\n",
       "converged:                       True   LL-Null:                       -100.64\n",
       "                                        LLR p-value:                 2.308e-12\n",
       "==============================================================================\n",
       "                 coef    std err          z      P>|z|      [0.025      0.975]\n",
       "------------------------------------------------------------------------------\n",
       "const         -1.6548      0.268     -6.175      0.000      -2.180      -1.130\n",
       "PC1           -0.4335      0.099     -4.366      0.000      -0.628      -0.239\n",
       "PC2           -0.9162      0.193     -4.747      0.000      -1.294      -0.538\n",
       "PC3           -0.4677      0.197     -2.370      0.018      -0.855      -0.081\n",
       "PC4            0.0912      0.229      0.399      0.690      -0.357       0.539\n",
       "==============================================================================\n",
       "\"\"\""
      ]
     },
     "execution_count": 54,
     "metadata": {},
     "output_type": "execute_result"
    }
   ],
   "source": [
    "logit = sm.Logit(wines_pca.iloc[:, -1], sm.add_constant(wines_pca.iloc[:, :-1], prepend = True), hasconst = True)\n",
    "result = logit.fit()\n",
    "result.summary()"
   ]
  },
  {
   "cell_type": "code",
   "execution_count": 55,
   "metadata": {},
   "outputs": [
    {
     "data": {
      "text/plain": [
       "(178, 2)"
      ]
     },
     "execution_count": 55,
     "metadata": {},
     "output_type": "execute_result"
    }
   ],
   "source": [
    "pred2 = np.array([1-result.predict(), result.predict()])\n",
    "pred2.T.shape"
   ]
  },
  {
   "cell_type": "code",
   "execution_count": 56,
   "metadata": {},
   "outputs": [
    {
     "data": {
      "text/plain": [
       "0.848314606741573"
      ]
     },
     "execution_count": 56,
     "metadata": {},
     "output_type": "execute_result"
    }
   ],
   "source": [
    "accuracy_score(pred2[1]>0.5, wines['Strong'])"
   ]
  },
  {
   "cell_type": "markdown",
   "metadata": {},
   "source": [
    "#### Result\n",
    "Accuracy score drops by more than 1% which is a significant decrease considered that our whole improvement in accuracy compared to the benchmark constituted only 11% (86% - 75%). This is due to the diminishment of the variation of factors which is the result of the PC employment."
   ]
  },
  {
   "cell_type": "markdown",
   "metadata": {},
   "source": [
    "Again we can plot the graphs from the previous lecture to check that our model is quite adequate"
   ]
  },
  {
   "cell_type": "code",
   "execution_count": 22,
   "metadata": {},
   "outputs": [
    {
     "name": "stderr",
     "output_type": "stream",
     "text": [
      "C:\\Users\\knyag\\Anaconda3\\lib\\site-packages\\matplotlib\\cbook\\__init__.py:424: MatplotlibDeprecationWarning: \n",
      "Passing one of 'on', 'true', 'off', 'false' as a boolean is deprecated; use an actual boolean (True/False) instead.\n",
      "  warn_deprecated(\"2.2\", \"Passing one of 'on', 'true', 'off', 'false' as a \"\n",
      "C:\\Users\\knyag\\Anaconda3\\lib\\site-packages\\matplotlib\\cbook\\__init__.py:424: MatplotlibDeprecationWarning: \n",
      "Passing one of 'on', 'true', 'off', 'false' as a boolean is deprecated; use an actual boolean (True/False) instead.\n",
      "  warn_deprecated(\"2.2\", \"Passing one of 'on', 'true', 'off', 'false' as a \"\n",
      "C:\\Users\\knyag\\Anaconda3\\lib\\site-packages\\sklearn\\utils\\deprecation.py:77: DeprecationWarning: Function plot_roc_curve is deprecated; This will be removed in v0.5.0. Please use scikitplot.metrics.plot_roc instead.\n",
      "  warnings.warn(msg, category=DeprecationWarning)\n"
     ]
    },
    {
     "data": {
      "text/plain": [
       "<matplotlib.axes._subplots.AxesSubplot at 0x162df557668>"
      ]
     },
     "execution_count": 22,
     "metadata": {},
     "output_type": "execute_result"
    },
    {
     "data": {
      "image/png": "[encoded data removed]",
      "text/plain": [
       "<Figure size 432x288 with 1 Axes>"
      ]
     },
     "metadata": {
      "needs_background": "light"
     },
     "output_type": "display_data"
    },
    {
     "data": {
      "image/png": "[encoded data removed]",
      "text/plain": [
       "<Figure size 432x288 with 1 Axes>"
      ]
     },
     "metadata": {
      "needs_background": "light"
     },
     "output_type": "display_data"
    },
    {
     "data": {
      "image/png": "[encoded data removed]",
      "text/plain": [
       "<Figure size 432x288 with 1 Axes>"
      ]
     },
     "metadata": {
      "needs_background": "light"
     },
     "output_type": "display_data"
    },
    {
     "data": {
      "image/png": "[encoded data removed]",
      "text/plain": [
       "<Figure size 432x288 with 1 Axes>"
      ]
     },
     "metadata": {
      "needs_background": "light"
     },
     "output_type": "display_data"
    }
   ],
   "source": [
    "skplt.metrics.plot_lift_curve(wines_pca['Strong'], pred.T)\n",
    "skplt.metrics.plot_cumulative_gain(wines_pca['Strong'], pred.T)\n",
    "skplt.metrics.plot_ks_statistic(wines_pca['Strong'], pred.T)\n",
    "skplt.metrics.plot_roc_curve(wines_pca['Strong'], pred.T)"
   ]
  }
 ],
 "metadata": {
  "kernelspec": {
   "display_name": "Python 3",
   "language": "python",
   "name": "python3"
  },
  "language_info": {
   "codemirror_mode": {
    "name": "ipython",
    "version": 3
   },
   "file_extension": ".py",
   "mimetype": "text/x-python",
   "name": "python",
   "nbconvert_exporter": "python",
   "pygments_lexer": "ipython3",
   "version": "3.6.5"
  }
 },
 "nbformat": 4,
 "nbformat_minor": 2
}
